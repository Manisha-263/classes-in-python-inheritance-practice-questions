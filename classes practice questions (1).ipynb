{
 "cells": [
  {
   "cell_type": "markdown",
   "id": "53919a5c-99f8-4dd1-8a25-fed28c4c93fe",
   "metadata": {},
   "source": [
    "# \" Inheritance practice Questions in classes\""
   ]
  },
  {
   "cell_type": "code",
   "execution_count": 5,
   "id": "62df81bd-52e8-4292-bf5a-4f536d9ce29e",
   "metadata": {},
   "outputs": [
    {
     "name": "stdout",
     "output_type": "stream",
     "text": [
      "Doggy makes a 'Bark' sound.\n",
      "Kitty makes a 'Meow' sound.\n",
      "MooMoo makes a 'Moo' sound.\n"
     ]
    }
   ],
   "source": [
    "# Q:10 Animal class with subclass\n",
    "# super class\n",
    "class Animal:\n",
    "    def __init__(self, name, sound):\n",
    "        self.name = name\n",
    "        self.sound = sound\n",
    "\n",
    "    def make_sound(self):\n",
    "        return f\"{self.name} makes a '{self.sound}' sound.\"\n",
    "\n",
    "# Subclass: Dog\n",
    "class Dog(Animal):\n",
    "    def __init__(self, name):\n",
    "        super().__init__(name, \"Bark\")\n",
    "\n",
    "# Subclass: Cat\n",
    "class Cat(Animal):\n",
    "    def __init__(self, name):\n",
    "        super().__init__(name, \"Meow\")\n",
    "\n",
    "# Subclass: Cow\n",
    "class Cow(Animal):\n",
    "    def __init__(self, name):\n",
    "        super().__init__(name, \"Moo\")\n",
    "\n",
    "# Example Usage\n",
    "dog = Dog(name=\"Doggy\")\n",
    "cat = Cat(name=\"Kitty\")\n",
    "cow = Cow(name=\"MooMoo\")\n",
    "\n",
    "print(dog.make_sound())\n",
    "print(cat.make_sound())\n",
    "print(cow.make_sound())"
   ]
  },
  {
   "cell_type": "code",
   "execution_count": 1,
   "id": "f1fb0485-2cf0-45bc-ac69-50a1dadce344",
   "metadata": {},
   "outputs": [
    {
     "name": "stdout",
     "output_type": "stream",
     "text": [
      "Circle Area: 78.53981633974483\n",
      "Rectangle Area: 24\n",
      "Triangle Area: 10.5\n"
     ]
    }
   ],
   "source": [
    "# Q:9 shape class with subclass \n",
    "import math\n",
    "\n",
    "# super class\n",
    "class Shape:\n",
    "    def calculate_area(self):\n",
    "        pass  # To be overridden by subclasses\n",
    "\n",
    "# Subclass: Circle\n",
    "class Circle(Shape):\n",
    "    def __init__(self, radius):\n",
    "        self.radius = radius\n",
    "\n",
    "    def calculate_area(self):\n",
    "        return math.pi * (self.radius ** 2)\n",
    "\n",
    "# Subclass: Rectangle\n",
    "class Rectangle(Shape):\n",
    "    def __init__(self, length, width):\n",
    "        self.length = length\n",
    "        self.width = width\n",
    "\n",
    "    def calculate_area(self):\n",
    "        return self.length * self.width\n",
    "\n",
    "# Subclass: Triangle\n",
    "class Triangle(Shape):\n",
    "    def __init__(self, base, height):\n",
    "        self.base = base\n",
    "        self.height = height\n",
    "\n",
    "    def calculate_area(self):\n",
    "        return 0.5 * self.base * self.height\n",
    "\n",
    "# Example Usage\n",
    "circle = Circle(radius=5)\n",
    "rectangle = Rectangle(length=4, width=6)\n",
    "triangle = Triangle(base=3, height=7)\n",
    "\n",
    "print(\"Circle Area:\", circle.calculate_area())\n",
    "print(\"Rectangle Area:\", rectangle.calculate_area())\n",
    "print(\"Triangle Area:\", triangle.calculate_area())"
   ]
  },
  {
   "cell_type": "code",
   "execution_count": null,
   "id": "bc34be86-09a9-44be-acc0-b0700c293fed",
   "metadata": {},
   "outputs": [],
   "source": []
  }
 ],
 "metadata": {
  "kernelspec": {
   "display_name": "Python 3 (ipykernel)",
   "language": "python",
   "name": "python3"
  },
  "language_info": {
   "codemirror_mode": {
    "name": "ipython",
    "version": 3
   },
   "file_extension": ".py",
   "mimetype": "text/x-python",
   "name": "python",
   "nbconvert_exporter": "python",
   "pygments_lexer": "ipython3",
   "version": "3.12.4"
  }
 },
 "nbformat": 4,
 "nbformat_minor": 5
}
